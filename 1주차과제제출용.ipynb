{
  "nbformat": 4,
  "nbformat_minor": 0,
  "metadata": {
    "colab": {
      "name": "1주차과제제출용.ipynb",
      "provenance": [],
      "collapsed_sections": [],
      "authorship_tag": "ABX9TyPSZos05fsaEjSvr/lkmFkP",
      "include_colab_link": true
    },
    "kernelspec": {
      "name": "python3",
      "display_name": "Python 3"
    }
  },
  "cells": [
    {
      "cell_type": "markdown",
      "metadata": {
        "id": "view-in-github",
        "colab_type": "text"
      },
      "source": [
        "<a href=\"https://colab.research.google.com/github/seungwon-Song/AI_SC/blob/master/1%EC%A3%BC%EC%B0%A8%EA%B3%BC%EC%A0%9C%EC%A0%9C%EC%B6%9C%EC%9A%A9.ipynb\" target=\"_parent\"><img src=\"https://colab.research.google.com/assets/colab-badge.svg\" alt=\"Open In Colab\"/></a>"
      ]
    },
    {
      "cell_type": "markdown",
      "metadata": {
        "id": "TL-pROXwxDAQ",
        "colab_type": "text"
      },
      "source": [
        "#인공지능 사관학교 1주차 과제\n",
        "\n",
        "## 4가지 분야에 사용되는 인공지능 제품, 서비스에 대해서 알아보자\n",
        "\n",
        "\n"
      ]
    },
    {
      "cell_type": "markdown",
      "metadata": {
        "id": "U8kAVTKdyl9o",
        "colab_type": "text"
      },
      "source": [
        "### 언어\n",
        "\n",
        "##### 파파고\n",
        "\n",
        "- 네이버가 2016년 8월 8일 애플리케이션으로 선보인 인공지능 기반 번역기이다. 한국어, 일본어, 중국어, 영어, 스페인어, 프랑스어 등 13개의 언어를 번역할 수 있다. 텍스트나 음성 뿐 아니라 사진 속 문자까지 통역 또는 번역할 수 있다\n",
        "\n",
        "1. WSD 화면\n",
        "  - 번역할 문장 속에서 동음이의어가 감지되었을 경우, WSD(Word Sense Disambiguation) 기능을 통해 번역 결과 탭에서 해당되는 단어에 밑줄이 그어진다. 그 단어를 클릭하면, 여러가지 의미를 간단한 도형으로 표현한 그림이 표시되어, 알맞은 도형을 선택하는 것으로 더 정확하고 올바른 번역 결과를 얻을 수 있다. 이 기능으로, 기계 번역에서의 고질적인 문제인 중의적 단어 처리 문제를 해결할 수 있어보이나, 아직 그 데이터가 부족하여 밑줄이 그어지지 않는 경우도 다수 발생한다.\n",
        "\n",
        "2. 글로벌 회화\n",
        "  - 네트워크에 연결되어 있지 않은 상황에서도 사용할 수 있다. 4개 언어 모두 사용할 수 있으며, 상황에 따른 자주 사용되는 필수 문구들의 원문과 읽는 법을 볼 수 있다.\n",
        "\n",
        "3. 즐겨찾기 및 해시태그\n",
        "  - 자주 사용하는 번역문을 즐겨찾기에 저장할 수 있으며, 해시태그를 통해 상황 및 주제별로 분류할 수 있다.\n",
        "\n",
        "4. Push-to-talk\n",
        "  - 소음이 심한 환경에서도 음성 인식을 할 수 있는 기술이다."
      ]
    },
    {
      "cell_type": "markdown",
      "metadata": {
        "id": "UjD-PaLlykJH",
        "colab_type": "text"
      },
      "source": [
        "### 이미지\n",
        "\n",
        "구글의 이미지 찾기, 이미지를 통한 보안 프로그램 등 이미지는 다양한 분야에서 인공지능과 함께 사용이 되어지고 있다. 그 중에 \n",
        " 삼성전자에서 출시하는 스마트폰에 탑재되어 서비스되는 프로그램인 빅스비 비전에 대해 설명을 하려고 한다.\n",
        "\n",
        "#### 빅스비 비전\n",
        "\n",
        "1. 이미지 찾기\n",
        "  \n",
        "  - 촬영한 사진이나 인터넷 서핑 중 이미지를 사용하여 비슷한 이미지를 찾는 기능\n",
        "\n",
        "  ![이미지찾기](https://img.kr.news.samsung.com/kr/wp-content/uploads/2018/05/bv-5i.png)\n",
        "\n",
        "2. QR코드\n",
        "\n",
        "  - QR 코드를 인식하여 QR 코드마다의 기능을 사용하는 기능\n",
        "\n",
        "3. 제품 찾기\n",
        "\n",
        "  - 이미지 속의 제품을 인식하여 가격, 판매처 등의 정보를 찾는 기능\n",
        "\n",
        "  ![제품](https://img.kr.news.samsung.com/kr/wp-content/uploads/2018/05/bv-6s.png)\n",
        "\n",
        "4. 번역\n",
        "\n",
        "  - 이미지 속의 글자를 읽고 원하는 언어로 번역하는 기능\n",
        "\n",
        " ![번역](https://img.kr.news.samsung.com/kr/wp-content/uploads/2018/05/bv-1t-11.png)\n",
        "\n",
        " 출처 :[출처](https://news.samsung.com/kr/%EA%B0%A4%EB%9F%AD%EC%8B%9C-s9-%EC%84%9C%EB%B9%84%EC%8A%A4%EC%97%B4%EC%A0%84-2-%EC%A0%95%EB%B3%B4%EB%A5%BC-%ED%83%90%EC%83%89%ED%95%98%EB%8A%94-%EB%98%90-%EB%8B%A4%EB%A5%B8-%EB%88%88-%EB%B9%85)"
      ]
    },
    {
      "cell_type": "markdown",
      "metadata": {
        "id": "oEJrSTdsykex",
        "colab_type": "text"
      },
      "source": [
        "###음성\n",
        "\n",
        "구글 어시스턴트, 빅스비, 시리 등 음성을 이용한 인공지능 비서나 음악 검색 등 여러 제품과 서비스가 있다. 그중 네이버의 사용자 취향을 맞춰 음악을 추천해주는 바이브(VIBE)에 대해서 설명하려고 한다.\n",
        "\n",
        "#### 네이버 바이브(VIBE)\n",
        "\n",
        "- 개인 취향을 고려해 사용자가 좋아할 만한 곳을 추천하고 맞춤형 플레이리스트를 끊임없이 만들어준다는 점이다. AI가 사용자 음악 감상 패턴을 학습하고 개별 음원까지 분석해 다각적으로 추천에 활용하는 방식이다. 개인의 음악 감상 패턴을 바탕으로 선호 장르와 아티스트를 파악하고, 협력 필터링 모델을 활용해 비슷한 취향의 사용자 그룹이 많이 소비한 음악을 추천한다. 또 딥러닝을 이용해 단순 추천을 넘어 개별 음원의 특성을 추출하고 사용자가 좋아할 만한 곡을 예측할 수 있다.\n",
        "\n",
        "- 바이브는 또한 현재 재생되는 곡과 다음 곡을 자연스럽게 이어준다. 시그널 프로세싱 방식과 딥러닝을 활용해 BPM, 키, 라우드니스, 곡의 구조, 큐포인트 같은 개별 음원의 특징을 분석해 다양한 방식으로 개인 맞춤형 플레이리스트를 계속 만들어준다.\n",
        "\n"
      ]
    },
    {
      "cell_type": "markdown",
      "metadata": {
        "id": "iSbSFk0Eykqa",
        "colab_type": "text"
      },
      "source": [
        "### 자율주행\n",
        "\n",
        "구글과 테슬라의 무인자동차, 아마존의 드론을 통한 배달 등 여러 곳에서 인공지능을 사용한 자율주행 제품, 서비스가 출시 또는 예정 중에 있다. 여러 자율주행을 사용한 제품 중 실생활에서 가장 가깝게 접할 수 있다고 생각하는 로봇청소기에 대해 설명하려고 한다.\n",
        "\n",
        "#### 로봇청소기 LG코드제로 R9\n",
        "\n",
        "1. 3D 센서를 사용하여 집 구조, 장애물의 위치 등을 학습하여 효율적인 청소 동선을 만든다 \n",
        "\n",
        "![구조인식](https://image5.lge.co.kr/uploads/product/media/2018/03/r958da.akor/usp_0202_1.jpg)\n",
        "\n",
        "2. 스마트폰을 사용하여 어디서든 특정 영역을 선택해서 청소하거나, 청소 금지영역을 설정할 수 있다\n",
        "\n",
        "![스마트폰](https://www.lge.co.kr/uploads/product/media/2018/03/r958da.akor/usp_0202_1600.jpg)\n",
        "\n",
        "3. 먼지량과 카펫, 구석을 감지하여, 먼지가 많거나 카펫, 구석으로 이동 시\n",
        "흡입력을 스스로 조절해서 강력하게 청소.\n",
        "\n",
        "![상태](https://image5.lge.co.kr/uploads/product/media/2018/03/r958da.akor/usp_0203_1600.jpg)\n",
        "\n",
        "\n",
        "출처 : [Lg코드제로](https://www.lge.co.kr/lgekor/product/household-appliances/vacuum/productDetail.do?cateId=6180&prdId=EPRD.327877)"
      ]
    },
    {
      "cell_type": "markdown",
      "metadata": {
        "id": "jCnl6l0rcAVb",
        "colab_type": "text"
      },
      "source": [
        "## 학습목표\n",
        "\n",
        "- 언어, 이미지, 음성, 자율주행 네가지 분야에서 인공지능이 사용되는 제품과 서비스에 대해서 찾아보았다. 조사를 하며 느낀 것은 이미지에서 글을 번역하거나 로봇청소기가 집의 구조를 인식하여 청소를 하는 것을 보면 이미지+언어, 이미지+자율주행 처럼 여러 분야를 한번에 사용하는 인공지능이 많다고 생각하게 되었다. \n",
        "\n",
        "- 여러 분야에 함께 사용되고 실생활에 가깝게 사용할 수 있는 인공지능 제품, 서비스에 관심이 더욱 가게 되었고 그러한 제품, 서비스를 구상, 개발하는 것을 목표로 삼았습니다."
      ]
    }
  ]
}